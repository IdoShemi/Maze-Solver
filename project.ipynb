{
 "cells": [
  {
   "attachments": {},
   "cell_type": "markdown",
   "metadata": {},
   "source": [
    "# maze solver\n",
    "In this notebook I am going to take a maze picture with a start and a end point and I will try to solve the maze using python.\n",
    "\n",
    "**note:** the maze picture must contain start and end points at the first or last line and not on the columns (as in the picture):\n",
    "\n",
    "![](img.png)"
   ]
  },
  {
   "attachments": {},
   "cell_type": "markdown",
   "metadata": {},
   "source": [
    "### 1.1 importing important libraries"
   ]
  },
  {
   "cell_type": "code",
   "execution_count": 1,
   "metadata": {},
   "outputs": [],
   "source": [
    "import numpy as np\n",
    "import cv2\n",
    "from matplotlib import pyplot as plt"
   ]
  },
  {
   "attachments": {},
   "cell_type": "markdown",
   "metadata": {},
   "source": [
    "### 1.2 Getting the maze picture and converting it to matrix"
   ]
  },
  {
   "cell_type": "code",
   "execution_count": 2,
   "metadata": {},
   "outputs": [],
   "source": [
    "def convertImgToMatrix(path): \n",
    "    mat = cv2.imread(path)\n",
    "    n , m = mat.shape[0], mat.shape[1]\n",
    "    maze_matrix = np.zeros(dtype=np.uint8, shape=(n,m))\n",
    "    for i in range(n): \n",
    "        for j in range(m): \n",
    "            flag = False\n",
    "            for k in range(3): \n",
    "                if(mat[i][j][k] < 255//2):\n",
    "                    flag = True\n",
    "            maze_matrix[i, j] = 1 if flag else 0\n",
    "    return maze_matrix"
   ]
  },
  {
   "attachments": {},
   "cell_type": "markdown",
   "metadata": {},
   "source": [
    "### 1.3 find the start and end points\n",
    "I defined the start and end as the middle of the white gap\n",
    "\n",
    "The start and end can be in any place around the border"
   ]
  },
  {
   "cell_type": "code",
   "execution_count": 3,
   "metadata": {},
   "outputs": [],
   "source": [
    "def findStartandEnd(mat: np.ndarray): \n",
    "    n, m = mat.shape\n",
    "    points = []\n",
    "    # first line\n",
    "    i=0\n",
    "    while(i < m):\n",
    "        if mat[0][i] == 0: \n",
    "            s= i\n",
    "            while(i < m and mat[0][i] == 0): \n",
    "                i = i+1\n",
    "            points.append((s, i, 0))\n",
    "        i+=1\n",
    "\n",
    "    #last line:\n",
    "    i=0\n",
    "    while(i < m):\n",
    "        if mat[n-1][i] == 0: \n",
    "            s= i\n",
    "            while(i < m and mat[n-1][i] == 0): \n",
    "                i+=1\n",
    "            points.append((s, i, n-1))\n",
    "        i+=1\n",
    "    \n",
    "    return points"
   ]
  },
  {
   "attachments": {},
   "cell_type": "markdown",
   "metadata": {},
   "source": [
    "### 1.4 finding the path between the points"
   ]
  },
  {
   "cell_type": "code",
   "execution_count": 4,
   "metadata": {},
   "outputs": [],
   "source": [
    "def find_path(mat, start, end):\n",
    "    n, m = mat.shape\n",
    "    directions = [(0, 1), (0, -1), (1, 0), (-1, 0)] # right, left, down, up\n",
    "    queue = [(start, [start])]  # initialize queue with starting point and its path\n",
    "    visited = set([start])\n",
    "    front = 0\n",
    "    \n",
    "    while front < len(queue):\n",
    "        point, path = queue[front]\n",
    "        front += 1\n",
    "        if point == end:\n",
    "            return path  # return the path if end point is found\n",
    "        \n",
    "        for d in directions:\n",
    "            next_point = (point[0]+d[0], point[1]+d[1])\n",
    "            if 0 <= next_point[0] < n and 0 <= next_point[1] < m and mat[next_point[0]][next_point[1]] == 0 and next_point not in visited:\n",
    "                queue.append((next_point, path + [next_point]))\n",
    "                visited.add(next_point)\n",
    "    \n",
    "    return None"
   ]
  },
  {
   "attachments": {},
   "cell_type": "markdown",
   "metadata": {},
   "source": [
    "### 1.5 coloring the path"
   ]
  },
  {
   "cell_type": "code",
   "execution_count": 5,
   "metadata": {},
   "outputs": [],
   "source": [
    "def color_path(mat, path): \n",
    "    for point in path: \n",
    "        i, j = point\n",
    "        mat[i][j] = 2\n",
    "        for k in range(-1, 2):\n",
    "            for m in range(-1, 2):\n",
    "                if i+k >= 0 and i+k < len(mat) and j+m >= 0 and j+m < len(mat[0]):\n",
    "                    mat[i+k][j+m] = 2"
   ]
  },
  {
   "attachments": {},
   "cell_type": "markdown",
   "metadata": {},
   "source": [
    "### 1.6 changing the values and getting the final image"
   ]
  },
  {
   "cell_type": "code",
   "execution_count": 6,
   "metadata": {},
   "outputs": [],
   "source": [
    "def convert_mat_to_image(mat): \n",
    "    n ,m  = mat.shape\n",
    "    img = np.zeros(shape=(n, m, 3))\n",
    "    for i in range(n): \n",
    "        for j in range(m): \n",
    "            if(mat[i][j] == 2): \n",
    "                img[i][j] = [255,0,0]\n",
    "            elif(mat[i][j] ==0): \n",
    "                img[i][j] = [255, 255, 255]\n",
    "    return img"
   ]
  },
  {
   "attachments": {},
   "cell_type": "markdown",
   "metadata": {},
   "source": [
    "### 1.7 combining all the functions and outputing the result:"
   ]
  },
  {
   "cell_type": "code",
   "execution_count": 8,
   "metadata": {},
   "outputs": [
    {
     "name": "stderr",
     "output_type": "stream",
     "text": [
      "Clipping input data to the valid range for imshow with RGB data ([0..1] for floats or [0..255] for integers).\n"
     ]
    },
    {
     "data": {
      "image/png": "[encoded data removed]",
      "text/plain": [
       "<Figure size 640x480 with 1 Axes>"
      ]
     },
     "metadata": {},
     "output_type": "display_data"
    }
   ],
   "source": [
    "def solve_maze(image_name):\n",
    "    image = convertImgToMatrix(image_name)\n",
    "    points = findStartandEnd(image)\n",
    "    start = (points[0][2], (points[0][0]+points[0][1])//2)\n",
    "    end = (points[1][2], (points[1][0]+points[1][1])//2)\n",
    "    path = find_path(image, start, end)\n",
    "    color_path(image, path)\n",
    "    image = convert_mat_to_image(image)\n",
    "    plt.imshow(image)\n",
    "    plt.show()\n",
    "\n",
    "img_path = 'img.png'\n",
    "solve_maze(img_path)"
   ]
  }
 ],
 "metadata": {
  "kernelspec": {
   "display_name": "Python 3",
   "language": "python",
   "name": "python3"
  },
  "language_info": {
   "codemirror_mode": {
    "name": "ipython",
    "version": 3
   },
   "file_extension": ".py",
   "mimetype": "text/x-python",
   "name": "python",
   "nbconvert_exporter": "python",
   "pygments_lexer": "ipython3",
   "version": "3.10.11"
  },
  "orig_nbformat": 4
 },
 "nbformat": 4,
 "nbformat_minor": 2
}
